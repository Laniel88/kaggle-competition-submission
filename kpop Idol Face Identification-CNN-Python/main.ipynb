{
 "cells": [
  {
   "cell_type": "code",
   "execution_count": 1,
   "id": "c5ecaa8b",
   "metadata": {
    "_cell_guid": "b1076dfc-b9ad-4769-8c92-a6c4dae69d19",
    "_uuid": "8f2839f25d086af736a60e9eeb907d3b93b6e0e5",
    "execution": {
     "iopub.execute_input": "2022-08-17T08:19:43.155381Z",
     "iopub.status.busy": "2022-08-17T08:19:43.154550Z",
     "iopub.status.idle": "2022-08-17T08:19:49.745926Z",
     "shell.execute_reply": "2022-08-17T08:19:49.744733Z"
    },
    "papermill": {
     "duration": 6.60137,
     "end_time": "2022-08-17T08:19:49.748639",
     "exception": false,
     "start_time": "2022-08-17T08:19:43.147269",
     "status": "completed"
    },
    "tags": []
   },
   "outputs": [],
   "source": [
    "import numpy as np \n",
    "import pandas as pd \n",
    "from PIL import Image\n",
    "import os\n",
    "import matplotlib.pyplot as plt\n",
    "from sklearn.utils import shuffle\n",
    "from sklearn.utils import class_weight\n",
    "from sklearn.preprocessing import minmax_scale\n",
    "import random\n",
    "import cv2\n",
    "import warnings\n",
    "\n",
    "warnings.filterwarnings('ignore')\n",
    "\n",
    "import tensorflow as tf\n",
    "from tensorflow.keras.models import Sequential, Model\n",
    "from tensorflow.keras.preprocessing.image import ImageDataGenerator\n",
    "from tensorflow.keras.layers import Conv2D, Dense, Dropout, Activation,  MaxPool2D, Input, BatchNormalization, GlobalAveragePooling2D\n",
    "from tensorflow.keras import layers\n",
    "from tensorflow.keras.callbacks import ModelCheckpoint, EarlyStopping\n",
    "from tensorflow.keras.experimental import CosineDecay\n",
    "from tensorflow.keras.applications import EfficientNetB0\n",
    "from tensorflow.keras.layers.experimental.preprocessing import RandomCrop,CenterCrop, RandomRotation\n",
    "from tensorflow.keras.optimizers import Adam"
   ]
  },
  {
   "cell_type": "code",
   "execution_count": 3,
   "id": "23b0417e",
   "metadata": {
    "execution": {
     "iopub.execute_input": "2022-08-17T08:19:49.759262Z",
     "iopub.status.busy": "2022-08-17T08:19:49.758619Z",
     "iopub.status.idle": "2022-08-17T08:19:49.781544Z",
     "shell.execute_reply": "2022-08-17T08:19:49.780715Z"
    },
    "papermill": {
     "duration": 0.030164,
     "end_time": "2022-08-17T08:19:49.783531",
     "exception": false,
     "start_time": "2022-08-17T08:19:49.753367",
     "status": "completed"
    },
    "tags": []
   },
   "outputs": [],
   "source": [
    "# The path of the baseline code has been modified\n",
    "training_folder = '../input/k-pop-idol-face-identification-competition/train/'\n",
    "test_folder = '../input/k-pop-idol-face-identification-competition/test/'\n",
    "train_label = pd.read_csv('../input/k-pop-idol-face-identification-competition/train_label.csv')\n",
    "train_label[\"filepath\"] = training_folder + train_label[\"file_name\"]\n",
    "train_label = train_label.drop([\"file_name\"], axis=1)"
   ]
  },
  {
   "cell_type": "code",
   "execution_count": 4,
   "id": "07214690",
   "metadata": {
    "execution": {
     "iopub.execute_input": "2022-08-17T08:19:49.793788Z",
     "iopub.status.busy": "2022-08-17T08:19:49.792957Z",
     "iopub.status.idle": "2022-08-17T08:19:49.801531Z",
     "shell.execute_reply": "2022-08-17T08:19:49.800648Z"
    },
    "papermill": {
     "duration": 0.016058,
     "end_time": "2022-08-17T08:19:49.803915",
     "exception": false,
     "start_time": "2022-08-17T08:19:49.787857",
     "status": "completed"
    },
    "tags": []
   },
   "outputs": [
    {
     "data": {
      "text/plain": [
       "array(['lisa', 'jisoo', 'rose', 'kimminju', 'jennie', 'joyuri'],\n",
       "      dtype=object)"
      ]
     },
     "execution_count": 4,
     "metadata": {},
     "output_type": "execute_result"
    }
   ],
   "source": [
    "train_label.name.unique()"
   ]
  },
  {
   "cell_type": "code",
   "execution_count": 5,
   "id": "9cff0cf0",
   "metadata": {
    "execution": {
     "iopub.execute_input": "2022-08-17T08:19:49.814113Z",
     "iopub.status.busy": "2022-08-17T08:19:49.813848Z",
     "iopub.status.idle": "2022-08-17T08:19:49.817866Z",
     "shell.execute_reply": "2022-08-17T08:19:49.816892Z"
    },
    "papermill": {
     "duration": 0.01139,
     "end_time": "2022-08-17T08:19:49.819881",
     "exception": false,
     "start_time": "2022-08-17T08:19:49.808491",
     "status": "completed"
    },
    "tags": []
   },
   "outputs": [],
   "source": [
    "name_convert_dict = {\n",
    "    'lisa' : 0,\n",
    "    'joyuri' : 1,\n",
    "    'rose' : 2,\n",
    "    'jisoo' : 3,\n",
    "    'kimminju' : 4,\n",
    "    'jennie' : 5,\n",
    "}"
   ]
  },
  {
   "cell_type": "code",
   "execution_count": 6,
   "id": "b212d80d",
   "metadata": {
    "execution": {
     "iopub.execute_input": "2022-08-17T08:19:49.830952Z",
     "iopub.status.busy": "2022-08-17T08:19:49.829483Z",
     "iopub.status.idle": "2022-08-17T08:19:49.836100Z",
     "shell.execute_reply": "2022-08-17T08:19:49.835240Z"
    },
    "papermill": {
     "duration": 0.013886,
     "end_time": "2022-08-17T08:19:49.838128",
     "exception": false,
     "start_time": "2022-08-17T08:19:49.824242",
     "status": "completed"
    },
    "tags": []
   },
   "outputs": [],
   "source": [
    "train_label[\"name\"] = train_label.name.map(lambda x: name_convert_dict[x])"
   ]
  },
  {
   "cell_type": "code",
   "execution_count": 7,
   "id": "d3b819c9",
   "metadata": {
    "execution": {
     "iopub.execute_input": "2022-08-17T08:19:49.848227Z",
     "iopub.status.busy": "2022-08-17T08:19:49.847961Z",
     "iopub.status.idle": "2022-08-17T08:19:49.854963Z",
     "shell.execute_reply": "2022-08-17T08:19:49.854161Z"
    },
    "papermill": {
     "duration": 0.014251,
     "end_time": "2022-08-17T08:19:49.856800",
     "exception": false,
     "start_time": "2022-08-17T08:19:49.842549",
     "status": "completed"
    },
    "tags": []
   },
   "outputs": [],
   "source": [
    "train_label = shuffle(train_label, random_state=42) #데이터를 무작위로 섞음\n",
    "train_size = int(len(train_label)*0.8) # 훈련에 사용할 데이터의 크기를 지정\n",
    "training_df = train_label[:train_size] # 훈련 데이터셋을 만들어줌\n",
    "validation_df = train_label[train_size:] # validation 데이터셋을 만들어줌"
   ]
  },
  {
   "cell_type": "code",
   "execution_count": 8,
   "id": "d6fb652a",
   "metadata": {
    "execution": {
     "iopub.execute_input": "2022-08-17T08:19:49.867996Z",
     "iopub.status.busy": "2022-08-17T08:19:49.866637Z",
     "iopub.status.idle": "2022-08-17T08:19:49.872086Z",
     "shell.execute_reply": "2022-08-17T08:19:49.871228Z"
    },
    "papermill": {
     "duration": 0.01263,
     "end_time": "2022-08-17T08:19:49.874097",
     "exception": false,
     "start_time": "2022-08-17T08:19:49.861467",
     "status": "completed"
    },
    "tags": []
   },
   "outputs": [],
   "source": [
    "batch_size = 8 # 배치 사이즈를 설정\n",
    "image_size = 512 # 이미지의 크기를 설정\n",
    "input_shape = (image_size, image_size, 3) #이미지의 사이즈 정의 (컬러 이미지이기 때문에 한 화소당 3개의 데이터가 필요)\n",
    "dropout_rate = 0.3 #드롭아웃 비율 정의\n",
    "classes_to_predict = sorted(training_df.name.unique()) #예측해야 하는 클래스 수 정의, 여기서는 6개"
   ]
  },
  {
   "cell_type": "code",
   "execution_count": 9,
   "id": "a0e33bd7",
   "metadata": {
    "execution": {
     "iopub.execute_input": "2022-08-17T08:19:49.885275Z",
     "iopub.status.busy": "2022-08-17T08:19:49.883768Z",
     "iopub.status.idle": "2022-08-17T08:19:52.633578Z",
     "shell.execute_reply": "2022-08-17T08:19:52.632716Z"
    },
    "papermill": {
     "duration": 2.757217,
     "end_time": "2022-08-17T08:19:52.635689",
     "exception": false,
     "start_time": "2022-08-17T08:19:49.878472",
     "status": "completed"
    },
    "tags": []
   },
   "outputs": [],
   "source": [
    "training_data = tf.data.Dataset.from_tensor_slices((training_df.filepath.values, training_df.name.values))\n",
    "validation_data = tf.data.Dataset.from_tensor_slices((validation_df.filepath.values, validation_df.name.values))"
   ]
  },
  {
   "cell_type": "code",
   "execution_count": 10,
   "id": "a7a6be2d",
   "metadata": {
    "execution": {
     "iopub.execute_input": "2022-08-17T08:19:52.647066Z",
     "iopub.status.busy": "2022-08-17T08:19:52.646205Z",
     "iopub.status.idle": "2022-08-17T08:19:52.719684Z",
     "shell.execute_reply": "2022-08-17T08:19:52.718766Z"
    },
    "papermill": {
     "duration": 0.081686,
     "end_time": "2022-08-17T08:19:52.722195",
     "exception": false,
     "start_time": "2022-08-17T08:19:52.640509",
     "status": "completed"
    },
    "tags": []
   },
   "outputs": [],
   "source": [
    "def load_image_and_label_from_path(image_path, label): #이미지 데이터를 불러와 텐서 (array와 비슷한 형태)로 변환하는 함수\n",
    "    img = tf.io.read_file(image_path) #이미지 경로의 파일을 읽음\n",
    "    img = tf.image.decode_jpeg(img, channels=3) #이미지를 array 데이터로 변환하여 저장\n",
    "    return img, label\n",
    "\n",
    "AUTOTUNE = tf.data.experimental.AUTOTUNE #메모리 동적 할당을 위한 AUTOTUNE\n",
    "training_data = training_data.map(load_image_and_label_from_path, num_parallel_calls=AUTOTUNE) #train 데이터를 불러옴\n",
    "validation_data = validation_data.map(load_image_and_label_from_path,num_parallel_calls=AUTOTUNE) #validation 데이터를 불러옴"
   ]
  },
  {
   "cell_type": "code",
   "execution_count": 11,
   "id": "bc6277da",
   "metadata": {
    "execution": {
     "iopub.execute_input": "2022-08-17T08:19:52.733957Z",
     "iopub.status.busy": "2022-08-17T08:19:52.732319Z",
     "iopub.status.idle": "2022-08-17T08:19:52.745246Z",
     "shell.execute_reply": "2022-08-17T08:19:52.744435Z"
    },
    "papermill": {
     "duration": 0.020329,
     "end_time": "2022-08-17T08:19:52.747230",
     "exception": false,
     "start_time": "2022-08-17T08:19:52.726901",
     "status": "completed"
    },
    "tags": []
   },
   "outputs": [],
   "source": [
    "#train 및 validation 데이터를 훈련하기 좋게 batch로 자름\n",
    "training_data_batches = training_data.shuffle(buffer_size=1000).batch(batch_size).prefetch(buffer_size=AUTOTUNE)\n",
    "validation_data_batches = validation_data.shuffle(buffer_size=1000).batch(batch_size).prefetch(buffer_size=AUTOTUNE)"
   ]
  },
  {
   "cell_type": "code",
   "execution_count": 12,
   "id": "62996faa",
   "metadata": {
    "execution": {
     "iopub.execute_input": "2022-08-17T08:19:52.757205Z",
     "iopub.status.busy": "2022-08-17T08:19:52.756950Z",
     "iopub.status.idle": "2022-08-17T08:19:52.792665Z",
     "shell.execute_reply": "2022-08-17T08:19:52.791857Z"
    },
    "papermill": {
     "duration": 0.042935,
     "end_time": "2022-08-17T08:19:52.794573",
     "exception": false,
     "start_time": "2022-08-17T08:19:52.751638",
     "status": "completed"
    },
    "tags": []
   },
   "outputs": [],
   "source": [
    "data_augmentation_layers = tf.keras.Sequential(\n",
    "    [\n",
    "        layers.experimental.preprocessing.RandomFlip(\"horizontal_and_vertical\"), #랜덤으로 이미지를 좌우로 뒤집어줌.\n",
    "        layers.experimental.preprocessing.RandomRotation(0.25), #이미지를 좌우로 25% 이내로 랜덤으로 돌립니다. \n",
    "        layers.experimental.preprocessing.RandomZoom((-0.2, 0.2)), #이미지를 0~20%만큼 랜덤으로 축소,확대합니다.\n",
    "        layers.experimental.preprocessing.RandomContrast(factor=0.2),\n",
    "        layers.experimental.preprocessing.RandomHeight(factor=0.2),\n",
    "        layers.experimental.preprocessing.RandomWidth(factor=0.2)\n",
    "        \n",
    "    ]\n",
    ")"
   ]
  },
  {
   "cell_type": "code",
   "execution_count": 13,
   "id": "12ed0397",
   "metadata": {
    "execution": {
     "iopub.execute_input": "2022-08-17T08:19:52.805771Z",
     "iopub.status.busy": "2022-08-17T08:19:52.805006Z",
     "iopub.status.idle": "2022-08-17T08:19:54.732992Z",
     "shell.execute_reply": "2022-08-17T08:19:54.732039Z"
    },
    "papermill": {
     "duration": 1.936028,
     "end_time": "2022-08-17T08:19:54.735639",
     "exception": false,
     "start_time": "2022-08-17T08:19:52.799611",
     "status": "completed"
    },
    "tags": []
   },
   "outputs": [],
   "source": [
    "efficientnet = EfficientNetB0(weights=\"imagenet\", #이미지넷 가중치 값을 불러와 적용\n",
    "                              include_top=False, \n",
    "                              input_shape=input_shape, \n",
    "                              drop_connect_rate=dropout_rate) #efficientnetB0 모델을 로드\n",
    "efficientnet.trainable=True # efficientnetb0의 학습을 허용. 만약 False로 지정할 시에 정확도는 떨어지지만 학습 속도가 매우 빨라짐"
   ]
  },
  {
   "cell_type": "code",
   "execution_count": 14,
   "id": "47b9d3d0",
   "metadata": {
    "execution": {
     "iopub.execute_input": "2022-08-17T08:19:54.746843Z",
     "iopub.status.busy": "2022-08-17T08:19:54.746536Z",
     "iopub.status.idle": "2022-08-17T08:19:55.595264Z",
     "shell.execute_reply": "2022-08-17T08:19:55.592895Z"
    },
    "papermill": {
     "duration": 0.856684,
     "end_time": "2022-08-17T08:19:55.597441",
     "exception": false,
     "start_time": "2022-08-17T08:19:54.740757",
     "status": "completed"
    },
    "tags": []
   },
   "outputs": [
    {
     "name": "stdout",
     "output_type": "stream",
     "text": [
      "Model: \"sequential_1\"\n",
      "_________________________________________________________________\n",
      " Layer (type)                Output Shape              Param #   \n",
      "=================================================================\n",
      " sequential (Sequential)     (None, 512, 512, 3)       0         \n",
      "                                                                 \n",
      " efficientnetb0 (Functional)  (None, 16, 16, 1280)     4049571   \n",
      "                                                                 \n",
      " global_average_pooling2d (G  (None, 1280)             0         \n",
      " lobalAveragePooling2D)                                          \n",
      "                                                                 \n",
      " dense (Dense)               (None, 512)               655872    \n",
      "                                                                 \n",
      " dropout (Dropout)           (None, 512)               0         \n",
      "                                                                 \n",
      " dense_1 (Dense)             (None, 256)               131328    \n",
      "                                                                 \n",
      " dropout_1 (Dropout)         (None, 256)               0         \n",
      "                                                                 \n",
      " dense_2 (Dense)             (None, 6)                 1542      \n",
      "                                                                 \n",
      "=================================================================\n",
      "Total params: 4,838,313\n",
      "Trainable params: 4,796,290\n",
      "Non-trainable params: 42,023\n",
      "_________________________________________________________________\n"
     ]
    }
   ],
   "source": [
    "model = Sequential() #새 Sequential 모델을 만듬 \n",
    "model.add(Input(shape=input_shape)) #인풋을 이미지 사이즈로 설정\n",
    "model.add(data_augmentation_layers) #이미지 augumentation 레이어 추가\n",
    "model.add(efficientnet) # efficientnetb0 추가\n",
    "\n",
    "model.add(Conv2D(64, kernel_size=(5,5), activation='relu'))\n",
    "model.add(MaxPool2D(pool_size=5,strides=3,padding=\"same\"))\n",
    "model.add(Conv2D(32, kernel_size=(3,3), activation='relu'))\n",
    "\n",
    "model.add(layers.GlobalAveragePooling2D())  # 풀링 레이어를 추가\n",
    "\n",
    "model.add(Dense(640, activation = \"relu\"))\n",
    "model.add(layers.Dropout(dropout_rate))     # 드롭아웃 레이어를 추가\n",
    "\n",
    "model.add(Dense(len(classes_to_predict), activation=\"softmax\")) #마지막 덴스 레이어를 추가. 예측할 클래스의 개수만큼이 아웃풋이 된다. \n",
    "model.summary() #모델 확인"
   ]
  },
  {
   "cell_type": "code",
   "execution_count": null,
   "id": "3f6659d6",
   "metadata": {
    "execution": {
     "iopub.execute_input": "2022-08-17T08:19:55.610875Z",
     "iopub.status.busy": "2022-08-17T08:19:55.609216Z",
     "iopub.status.idle": "2022-08-17T08:19:55.625710Z",
     "shell.execute_reply": "2022-08-17T08:19:55.624866Z"
    },
    "papermill": {
     "duration": 0.024737,
     "end_time": "2022-08-17T08:19:55.627918",
     "exception": false,
     "start_time": "2022-08-17T08:19:55.603181",
     "status": "completed"
    },
    "tags": []
   },
   "outputs": [],
   "source": [
    "epochs = 30 #에폭 수를 설정합니다.\n",
    "decay_steps = int(round(len(training_df)/batch_size))*epochs\n",
    "cosine_decay = CosineDecay(initial_learning_rate=1e-4, decay_steps=decay_steps, alpha=0.3) #learning rate를 에폭이 지날수록 점점 줄여나가는 cosine decay 방법을 사용합니다. \n",
    "callbacks = [ModelCheckpoint(filepath='mymodel.h5', monitor='val_loss', save_best_only=True), #가장 validation loss가 낮은 에폭의 모델을 .h5 파일로 저장합니다. \n",
    "            EarlyStopping(monitor='val_loss', patience = 5, verbose=1)] #정해진 에폭이 되기 전에 5번의 에폭동한 validation loss가 향상되지 않으면 학습을 종료합니다. \n",
    "\n",
    "model.compile(loss=\"sparse_categorical_crossentropy\", optimizer=Adam(cosine_decay), metrics=[\"accuracy\"]) #loss는 sparse_categorical_crossentropy, optimizer는 Adam을 사용합니다. 각 에폭당 정확도를 통해 모델의 성능을 모니터링합니다, "
   ]
  },
  {
   "cell_type": "code",
   "execution_count": null,
   "id": "d2f47d74",
   "metadata": {
    "execution": {
     "iopub.execute_input": "2022-08-17T08:19:55.639822Z",
     "iopub.status.busy": "2022-08-17T08:19:55.638447Z",
     "iopub.status.idle": "2022-08-17T08:28:18.599993Z",
     "shell.execute_reply": "2022-08-17T08:28:18.598888Z"
    },
    "papermill": {
     "duration": 502.970225,
     "end_time": "2022-08-17T08:28:18.602852",
     "exception": false,
     "start_time": "2022-08-17T08:19:55.632627",
     "status": "completed"
    },
    "tags": []
   },
   "outputs": [],
   "source": [
    "history = model.fit(training_data_batches, #모델을 학습합니다. \n",
    "                  epochs = epochs, \n",
    "                  validation_data=validation_data_batches,\n",
    "                  callbacks=callbacks)"
   ]
  },
  {
   "cell_type": "code",
   "execution_count": null,
   "id": "f46e3003",
   "metadata": {
    "execution": {
     "iopub.execute_input": "2022-08-17T08:28:18.759269Z",
     "iopub.status.busy": "2022-08-17T08:28:18.758865Z",
     "iopub.status.idle": "2022-08-17T08:28:18.771546Z",
     "shell.execute_reply": "2022-08-17T08:28:18.770722Z"
    },
    "papermill": {
     "duration": 0.093556,
     "end_time": "2022-08-17T08:28:18.773599",
     "exception": false,
     "start_time": "2022-08-17T08:28:18.680043",
     "status": "completed"
    },
    "tags": []
   },
   "outputs": [],
   "source": [
    "sample_submission = pd.read_csv(\"../input/k-pop-idol-face-identification-competition/sample_submission.csv\")"
   ]
  },
  {
   "cell_type": "code",
   "execution_count": null,
   "id": "283a8cd7",
   "metadata": {
    "execution": {
     "iopub.execute_input": "2022-08-17T08:28:18.926766Z",
     "iopub.status.busy": "2022-08-17T08:28:18.925800Z",
     "iopub.status.idle": "2022-08-17T08:28:18.938867Z",
     "shell.execute_reply": "2022-08-17T08:28:18.937716Z"
    },
    "papermill": {
     "duration": 0.09242,
     "end_time": "2022-08-17T08:28:18.941149",
     "exception": false,
     "start_time": "2022-08-17T08:28:18.848729",
     "status": "completed"
    },
    "tags": []
   },
   "outputs": [],
   "source": [
    "sample_submission.head()"
   ]
  },
  {
   "cell_type": "code",
   "execution_count": null,
   "id": "84086dd4",
   "metadata": {
    "execution": {
     "iopub.execute_input": "2022-08-17T08:28:19.093982Z",
     "iopub.status.busy": "2022-08-17T08:28:19.093609Z",
     "iopub.status.idle": "2022-08-17T08:28:19.099807Z",
     "shell.execute_reply": "2022-08-17T08:28:19.098864Z"
    },
    "papermill": {
     "duration": 0.085368,
     "end_time": "2022-08-17T08:28:19.101862",
     "exception": false,
     "start_time": "2022-08-17T08:28:19.016494",
     "status": "completed"
    },
    "tags": []
   },
   "outputs": [],
   "source": [
    "def load_image_test(image_name):\n",
    "    test_folder = \"../input/k-pop-idol-face-identification-competition/test/\"\n",
    "    image_path = \"../input/k-pop-idol-face-identification-competition/test/\" + image_name\n",
    "    img = tf.io.read_file(image_path)\n",
    "    img = tf.image.decode_jpeg(img, channels=3)\n",
    "    img = np.reshape(img, [-1,512,512,3])\n",
    "    return img"
   ]
  },
  {
   "cell_type": "code",
   "execution_count": null,
   "id": "3b24b676",
   "metadata": {
    "execution": {
     "iopub.execute_input": "2022-08-17T08:28:19.254014Z",
     "iopub.status.busy": "2022-08-17T08:28:19.253038Z",
     "iopub.status.idle": "2022-08-17T08:28:19.258966Z",
     "shell.execute_reply": "2022-08-17T08:28:19.257968Z"
    },
    "papermill": {
     "duration": 0.084931,
     "end_time": "2022-08-17T08:28:19.261068",
     "exception": false,
     "start_time": "2022-08-17T08:28:19.176137",
     "status": "completed"
    },
    "tags": []
   },
   "outputs": [],
   "source": [
    "def test_predict(file_name):\n",
    "    local_image = load_image_test(file_name) #함수를 통하여 이미지를 불러옴\n",
    "    predictions = model.predict(local_image) #각 클래스의 확률을 훈련한 모델으로 예측\n",
    "    final_prediction = np.argmax(predictions) #가장 확률이 높은 클래스를 최종 예측 결과로 도출\n",
    "    return final_prediction #예측결과 반환"
   ]
  },
  {
   "cell_type": "code",
   "execution_count": null,
   "id": "c2d25bf5",
   "metadata": {
    "execution": {
     "iopub.execute_input": "2022-08-17T08:28:19.412256Z",
     "iopub.status.busy": "2022-08-17T08:28:19.411954Z",
     "iopub.status.idle": "2022-08-17T08:28:19.416717Z",
     "shell.execute_reply": "2022-08-17T08:28:19.415735Z"
    },
    "papermill": {
     "duration": 0.083063,
     "end_time": "2022-08-17T08:28:19.419023",
     "exception": false,
     "start_time": "2022-08-17T08:28:19.335960",
     "status": "completed"
    },
    "tags": []
   },
   "outputs": [],
   "source": [
    "def predictions_over_image(filepath):\n",
    "    predictions = [] #에측값을 저장하는 리스트\n",
    "    for path in filepath:   \n",
    "        predictions.append(test_predict(path)) # 각 사진마다 예측값을 저장한다\n",
    "    return predictions #예측값 변환"
   ]
  },
  {
   "cell_type": "code",
   "execution_count": null,
   "id": "3aec4c3f",
   "metadata": {
    "execution": {
     "iopub.execute_input": "2022-08-17T08:28:19.569370Z",
     "iopub.status.busy": "2022-08-17T08:28:19.568906Z",
     "iopub.status.idle": "2022-08-17T08:31:40.819575Z",
     "shell.execute_reply": "2022-08-17T08:31:40.818593Z"
    },
    "papermill": {
     "duration": 201.328586,
     "end_time": "2022-08-17T08:31:40.822071",
     "exception": false,
     "start_time": "2022-08-17T08:28:19.493485",
     "status": "completed"
    },
    "tags": []
   },
   "outputs": [],
   "source": [
    "sample_submission[\"name\"] = predictions_over_image(sample_submission[\"file_name\"])\n",
    "sample_submission[\"name\"] = sample_submission.name.map(lambda x : list(name_convert_dict.keys())[list(name_convert_dict.values()).index(x)])"
   ]
  },
  {
   "cell_type": "code",
   "execution_count": null,
   "id": "cd134c28",
   "metadata": {
    "execution": {
     "iopub.execute_input": "2022-08-17T08:31:41.108899Z",
     "iopub.status.busy": "2022-08-17T08:31:41.108292Z",
     "iopub.status.idle": "2022-08-17T08:31:41.125165Z",
     "shell.execute_reply": "2022-08-17T08:31:41.123820Z"
    },
    "papermill": {
     "duration": 0.16551,
     "end_time": "2022-08-17T08:31:41.127312",
     "exception": false,
     "start_time": "2022-08-17T08:31:40.961802",
     "status": "completed"
    },
    "tags": []
   },
   "outputs": [],
   "source": [
    "sample_submission.to_csv('submission.csv', index=False)"
   ]
  },
  {
   "cell_type": "code",
   "execution_count": null,
   "id": "af0212ed",
   "metadata": {},
   "outputs": [],
   "source": [
    "from IPython.display import FileLink\n",
    "FileLink('submission.csv')"
   ]
  }
 ],
 "metadata": {
  "kernelspec": {
   "display_name": "Python 3.9.13 64-bit",
   "language": "python",
   "name": "python3"
  },
  "language_info": {
   "codemirror_mode": {
    "name": "ipython",
    "version": 3
   },
   "file_extension": ".py",
   "mimetype": "text/x-python",
   "name": "python",
   "nbconvert_exporter": "python",
   "pygments_lexer": "ipython3",
   "version": "3.9.13"
  },
  "papermill": {
   "default_parameters": {},
   "duration": 728.587241,
   "end_time": "2022-08-17T08:31:44.095129",
   "environment_variables": {},
   "exception": null,
   "input_path": "__notebook__.ipynb",
   "output_path": "__notebook__.ipynb",
   "parameters": {},
   "start_time": "2022-08-17T08:19:35.507888",
   "version": "2.3.4"
  },
  "vscode": {
   "interpreter": {
    "hash": "9e4f967fb276d24088c9ac612f6f710628f32a1e5f7995dd875bcda8c6bf71b0"
   }
  }
 },
 "nbformat": 4,
 "nbformat_minor": 5
}
