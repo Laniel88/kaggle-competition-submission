{
 "cells": [
  {
   "cell_type": "markdown",
   "id": "13fa44bd",
   "metadata": {
    "papermill": {
     "duration": 0.018891,
     "end_time": "2021-11-06T06:54:43.648759",
     "exception": false,
     "start_time": "2021-11-06T06:54:43.629868",
     "status": "completed"
    },
    "tags": []
   },
   "source": [
    "### 라이브러리 로드"
   ]
  },
  {
   "cell_type": "code",
   "execution_count": null,
   "id": "473d998d",
   "metadata": {
    "_cell_guid": "b1076dfc-b9ad-4769-8c92-a6c4dae69d19",
    "_uuid": "8f2839f25d086af736a60e9eeb907d3b93b6e0e5",
    "execution": {
     "iopub.execute_input": "2021-11-06T06:54:43.686201Z",
     "iopub.status.busy": "2021-11-06T06:54:43.685408Z",
     "iopub.status.idle": "2021-11-06T06:54:49.457630Z",
     "shell.execute_reply": "2021-11-06T06:54:49.456927Z",
     "shell.execute_reply.started": "2021-11-06T06:32:37.934290Z"
    },
    "papermill": {
     "duration": 5.795107,
     "end_time": "2021-11-06T06:54:49.457810",
     "exception": false,
     "start_time": "2021-11-06T06:54:43.662703",
     "status": "completed"
    },
    "tags": []
   },
   "outputs": [],
   "source": [
    "import numpy as np \n",
    "import pandas as pd\n",
    "import os\n",
    "import tensorflow as tf\n",
    "import matplotlib.pyplot as plt\n",
    "import seaborn as sns\n",
    "\n",
    "from tensorflow.keras.layers import Conv2D, Dense, Dropout, Flatten, MaxPool2D\n",
    "from tensorflow.keras.models import Sequential\n",
    "from tensorflow.keras.preprocessing.image import ImageDataGenerator\n",
    "from PIL import Image\n",
    "import cv2\n",
    "\n",
    "import warnings\n",
    "warnings.filterwarnings(action='ignore')"
   ]
  },
  {
   "cell_type": "code",
   "execution_count": null,
   "id": "465a4a89",
   "metadata": {},
   "outputs": [],
   "source": [
    "from tensorflow.python.client import device_lib\n",
    "device_lib.list_local_devices()"
   ]
  },
  {
   "cell_type": "markdown",
   "id": "91240328",
   "metadata": {
    "papermill": {
     "duration": 0.012135,
     "end_time": "2021-11-06T06:54:49.482759",
     "exception": false,
     "start_time": "2021-11-06T06:54:49.470624",
     "status": "completed"
    },
    "tags": []
   },
   "source": [
    "## Simple EDA"
   ]
  },
  {
   "cell_type": "code",
   "execution_count": null,
   "id": "018dc6ff",
   "metadata": {
    "_kg_hide-input": true,
    "execution": {
     "iopub.execute_input": "2021-11-06T06:54:49.528342Z",
     "iopub.status.busy": "2021-11-06T06:54:49.527499Z",
     "iopub.status.idle": "2021-11-06T06:54:51.450054Z",
     "shell.execute_reply": "2021-11-06T06:54:51.451123Z",
     "shell.execute_reply.started": "2021-11-06T06:32:37.943669Z"
    },
    "papermill": {
     "duration": 1.956532,
     "end_time": "2021-11-06T06:54:51.451346",
     "exception": false,
     "start_time": "2021-11-06T06:54:49.494814",
     "status": "completed"
    },
    "tags": []
   },
   "outputs": [],
   "source": [
    "axes = []\n",
    "fig = plt.figure(figsize=(20,6))\n",
    "for i in range (13):\n",
    "    axes.append(fig.add_subplot(2,7,i+1))\n",
    "    subplot_title = str(i)\n",
    "    axes[-1].set_title(subplot_title)\n",
    "    img = Image.open('../input/pceo-mnist/train/'+str(i)+'/'+'G_0_0_0_0_0.png')\n",
    "    plt.imshow(img)\n",
    "fig.tight_layout()\n",
    "plt.show()"
   ]
  },
  {
   "cell_type": "markdown",
   "id": "0f07f4f7",
   "metadata": {
    "papermill": {
     "duration": 0.023384,
     "end_time": "2021-11-06T06:54:51.499519",
     "exception": false,
     "start_time": "2021-11-06T06:54:51.476135",
     "status": "completed"
    },
    "tags": []
   },
   "source": [
    "### 데이터 전처리"
   ]
  },
  {
   "cell_type": "code",
   "execution_count": null,
   "id": "e286f8fa",
   "metadata": {
    "execution": {
     "iopub.execute_input": "2021-11-06T06:54:51.553109Z",
     "iopub.status.busy": "2021-11-06T06:54:51.551993Z",
     "iopub.status.idle": "2021-11-06T06:54:51.579322Z",
     "shell.execute_reply": "2021-11-06T06:54:51.580527Z",
     "shell.execute_reply.started": "2021-11-06T06:32:39.246251Z"
    },
    "papermill": {
     "duration": 0.057975,
     "end_time": "2021-11-06T06:54:51.580760",
     "exception": false,
     "start_time": "2021-11-06T06:54:51.522785",
     "status": "completed"
    },
    "tags": []
   },
   "outputs": [],
   "source": [
    "sample_submission = pd.read_csv('../input/pceo-mnist/sample_submission.csv')\n",
    "sample_submission.head()"
   ]
  },
  {
   "cell_type": "code",
   "execution_count": null,
   "id": "0e9cc5ca",
   "metadata": {
    "execution": {
     "iopub.execute_input": "2021-11-06T06:54:51.638267Z",
     "iopub.status.busy": "2021-11-06T06:54:51.637420Z",
     "iopub.status.idle": "2021-11-06T06:54:51.640683Z",
     "shell.execute_reply": "2021-11-06T06:54:51.641310Z",
     "shell.execute_reply.started": "2021-11-06T06:32:39.262129Z"
    },
    "papermill": {
     "duration": 0.035543,
     "end_time": "2021-11-06T06:54:51.641526",
     "exception": false,
     "start_time": "2021-11-06T06:54:51.605983",
     "status": "completed"
    },
    "tags": []
   },
   "outputs": [],
   "source": [
    "train_dir = '../input/pceo-mnist/train'\n",
    "test_dir = '../input/pceo-mnist/test'\n",
    "n_classes = 13\n",
    "class_label = [i for i in range (n_classes)]\n",
    "target_size = (28,28)\n",
    "target_dim = (28,28,3)\n",
    "val_size = 0.2\n",
    "batch_size = 64"
   ]
  },
  {
   "cell_type": "code",
   "execution_count": null,
   "id": "19156e9b",
   "metadata": {
    "execution": {
     "iopub.execute_input": "2021-11-06T06:54:51.698338Z",
     "iopub.status.busy": "2021-11-06T06:54:51.697392Z",
     "iopub.status.idle": "2021-11-06T06:55:07.654108Z",
     "shell.execute_reply": "2021-11-06T06:55:07.654772Z",
     "shell.execute_reply.started": "2021-11-06T06:32:39.270032Z"
    },
    "papermill": {
     "duration": 15.990084,
     "end_time": "2021-11-06T06:55:07.654970",
     "exception": false,
     "start_time": "2021-11-06T06:54:51.664886",
     "status": "completed"
    },
    "tags": []
   },
   "outputs": [],
   "source": [
    "data_augmentor = ImageDataGenerator(samplewise_center=True, \n",
    "                                    samplewise_std_normalization=True, \n",
    "                                    validation_split=val_size,\n",
    "                                    zoom_range=0.1,\n",
    "                                    width_shift_range=0.1,\n",
    "                                    height_shift_range=0.1)\n",
    "test_data_augmentor = ImageDataGenerator(samplewise_center=True, \n",
    "                                    samplewise_std_normalization=True)\n",
    "\n",
    "train_generator = data_augmentor.flow_from_directory(train_dir, target_size=target_size, batch_size=batch_size, shuffle=True, subset=\"training\")\n",
    "val_generator = data_augmentor.flow_from_directory(train_dir, target_size=target_size, batch_size=batch_size, subset=\"validation\")\n",
    "test_generator = test_data_augmentor.flow_from_directory(test_dir, target_size=target_size, batch_size=batch_size, shuffle=False)"
   ]
  },
  {
   "cell_type": "code",
   "execution_count": null,
   "id": "74a0691c",
   "metadata": {},
   "outputs": [],
   "source": [
    "from tensorflow.keras.callbacks import EarlyStopping\n",
    " \n",
    "early_stopping = EarlyStopping(\n",
    "     min_delta = 0.001,\n",
    "     patience = 4,\n",
    "     restore_best_weights=True\n",
    ")"
   ]
  },
  {
   "cell_type": "markdown",
   "id": "dd09c527",
   "metadata": {
    "papermill": {
     "duration": 0.014274,
     "end_time": "2021-11-06T06:55:07.684499",
     "exception": false,
     "start_time": "2021-11-06T06:55:07.670225",
     "status": "completed"
    },
    "tags": []
   },
   "source": [
    "### 모델링 및 훈련"
   ]
  },
  {
   "cell_type": "code",
   "execution_count": null,
   "id": "b5a91d07",
   "metadata": {
    "execution": {
     "iopub.execute_input": "2021-11-06T06:55:07.719453Z",
     "iopub.status.busy": "2021-11-06T06:55:07.718897Z",
     "iopub.status.idle": "2021-11-06T06:55:10.268272Z",
     "shell.execute_reply": "2021-11-06T06:55:10.268884Z",
     "shell.execute_reply.started": "2021-11-06T06:32:41.780224Z"
    },
    "papermill": {
     "duration": 2.570075,
     "end_time": "2021-11-06T06:55:10.269046",
     "exception": false,
     "start_time": "2021-11-06T06:55:07.698971",
     "status": "completed"
    },
    "tags": []
   },
   "outputs": [],
   "source": [
    "model = Sequential()\n",
    "model.add(Conv2D(32, kernel_size=(5,5), activation='relu', input_shape=target_dim))\n",
    "model.add(MaxPool2D(pool_size=2,strides=1,padding=\"same\"))\n",
    "model.add(Conv2D(64, kernel_size=(3,3), activation='relu'))\n",
    "model.add(Flatten())\n",
    "model.add(Dense(512, activation='relu'))\n",
    "model.add(Dropout(rate=0.2))\n",
    "model.add(Dense(256, activation='relu'))\n",
    "model.add(Dense(n_classes, activation='softmax'))\n",
    "model.summary()"
   ]
  },
  {
   "cell_type": "code",
   "execution_count": null,
   "id": "660c270e",
   "metadata": {
    "execution": {
     "iopub.execute_input": "2021-11-06T06:55:10.311449Z",
     "iopub.status.busy": "2021-11-06T06:55:10.307714Z",
     "iopub.status.idle": "2021-11-06T06:55:10.316992Z",
     "shell.execute_reply": "2021-11-06T06:55:10.317435Z",
     "shell.execute_reply.started": "2021-11-06T06:32:41.827543Z"
    },
    "papermill": {
     "duration": 0.032528,
     "end_time": "2021-11-06T06:55:10.317587",
     "exception": false,
     "start_time": "2021-11-06T06:55:10.285059",
     "status": "completed"
    },
    "tags": []
   },
   "outputs": [],
   "source": [
    "model.compile(optimizer='adam', loss='categorical_crossentropy', metrics=[\"accuracy\"])"
   ]
  },
  {
   "cell_type": "code",
   "execution_count": null,
   "id": "de6d8239",
   "metadata": {
    "execution": {
     "iopub.execute_input": "2021-11-06T06:55:10.353555Z",
     "iopub.status.busy": "2021-11-06T06:55:10.352945Z",
     "iopub.status.idle": "2021-11-06T06:58:38.078308Z",
     "shell.execute_reply": "2021-11-06T06:58:38.078789Z",
     "shell.execute_reply.started": "2021-11-06T06:32:41.838802Z"
    },
    "papermill": {
     "duration": 207.745631,
     "end_time": "2021-11-06T06:58:38.078959",
     "exception": false,
     "start_time": "2021-11-06T06:55:10.333328",
     "status": "completed"
    },
    "tags": []
   },
   "outputs": [],
   "source": [
    "with tf.device(\"/device:CPU:0\"):\n",
    "    model.fit_generator(train_generator, epochs=20, validation_data = val_generator, callbacks = [early_stopping])"
   ]
  },
  {
   "cell_type": "markdown",
   "id": "017ad95c",
   "metadata": {
    "papermill": {
     "duration": 0.443064,
     "end_time": "2021-11-06T06:58:38.969062",
     "exception": false,
     "start_time": "2021-11-06T06:58:38.525998",
     "status": "completed"
    },
    "tags": []
   },
   "source": [
    "### Predict 및 Submission\n",
    "\n",
    "submission을 위한 부분을 변경하지 말아주세요. 아래 코드로 실행하여 submission 파일을 만들어야 올바르게 채점할 수 있습니다. "
   ]
  },
  {
   "cell_type": "code",
   "execution_count": null,
   "id": "697afdcc",
   "metadata": {
    "execution": {
     "iopub.execute_input": "2021-11-06T06:58:40.258582Z",
     "iopub.status.busy": "2021-11-06T06:58:40.256757Z",
     "iopub.status.idle": "2021-11-06T06:58:57.646337Z",
     "shell.execute_reply": "2021-11-06T06:58:57.646803Z",
     "shell.execute_reply.started": "2021-11-06T06:35:40.151772Z"
    },
    "papermill": {
     "duration": 18.140516,
     "end_time": "2021-11-06T06:58:57.646971",
     "exception": false,
     "start_time": "2021-11-06T06:58:39.506455",
     "status": "completed"
    },
    "tags": []
   },
   "outputs": [],
   "source": [
    "test_generator.reset()\n",
    "predict = model.predict_generator(test_generator)\n",
    "result = np.argmax(predict, axis=1)"
   ]
  },
  {
   "cell_type": "code",
   "execution_count": null,
   "id": "12a0953b",
   "metadata": {
    "execution": {
     "iopub.execute_input": "2021-11-06T06:58:58.908760Z",
     "iopub.status.busy": "2021-11-06T06:58:58.618678Z",
     "iopub.status.idle": "2021-11-06T06:59:00.609209Z",
     "shell.execute_reply": "2021-11-06T06:59:00.609670Z",
     "shell.execute_reply.started": "2021-11-06T06:35:45.141713Z"
    },
    "papermill": {
     "duration": 2.518454,
     "end_time": "2021-11-06T06:59:00.609836",
     "exception": false,
     "start_time": "2021-11-06T06:58:58.091382",
     "status": "completed"
    },
    "tags": []
   },
   "outputs": [],
   "source": [
    "submission = sample_submission.copy()\n",
    "for i in range(len(submission)):\n",
    "    submission.iloc[i,0] = str(submission.iloc[i,0])\n",
    "submission = submission.sort_values('file_index')"
   ]
  },
  {
   "cell_type": "code",
   "execution_count": null,
   "id": "6990a8b3",
   "metadata": {
    "execution": {
     "iopub.execute_input": "2021-11-06T06:59:01.512007Z",
     "iopub.status.busy": "2021-11-06T06:59:01.510393Z",
     "iopub.status.idle": "2021-11-06T06:59:01.512606Z",
     "shell.execute_reply": "2021-11-06T06:59:01.513009Z",
     "shell.execute_reply.started": "2021-11-06T06:35:47.023977Z"
    },
    "papermill": {
     "duration": 0.453465,
     "end_time": "2021-11-06T06:59:01.513144",
     "exception": false,
     "start_time": "2021-11-06T06:59:01.059679",
     "status": "completed"
    },
    "tags": []
   },
   "outputs": [],
   "source": [
    "class_map = train_generator.class_indices"
   ]
  },
  {
   "cell_type": "code",
   "execution_count": null,
   "id": "2de65e29",
   "metadata": {
    "execution": {
     "iopub.execute_input": "2021-11-06T06:59:03.331026Z",
     "iopub.status.busy": "2021-11-06T06:59:02.883692Z",
     "iopub.status.idle": "2021-11-06T06:59:04.059938Z",
     "shell.execute_reply": "2021-11-06T06:59:04.059470Z",
     "shell.execute_reply.started": "2021-11-06T06:35:47.030032Z"
    },
    "papermill": {
     "duration": 2.100487,
     "end_time": "2021-11-06T06:59:04.060067",
     "exception": false,
     "start_time": "2021-11-06T06:59:01.959580",
     "status": "completed"
    },
    "tags": []
   },
   "outputs": [],
   "source": [
    "submission = submission.reset_index()\n",
    "for i in range(len(submission)):\n",
    "    submission.iloc[i,-1] = list(class_map.keys())[list(class_map.values()).index(result[i])]\n",
    "submission = submission.drop('index', axis=1)"
   ]
  },
  {
   "cell_type": "code",
   "execution_count": null,
   "id": "d40c0dce",
   "metadata": {
    "execution": {
     "iopub.execute_input": "2021-11-06T06:59:04.980441Z",
     "iopub.status.busy": "2021-11-06T06:59:04.978738Z",
     "iopub.status.idle": "2021-11-06T06:59:04.982738Z",
     "shell.execute_reply": "2021-11-06T06:59:04.982262Z",
     "shell.execute_reply.started": "2021-11-06T06:35:48.570158Z"
    },
    "papermill": {
     "duration": 0.459469,
     "end_time": "2021-11-06T06:59:04.982858",
     "exception": false,
     "start_time": "2021-11-06T06:59:04.523389",
     "status": "completed"
    },
    "tags": []
   },
   "outputs": [],
   "source": [
    "submission.head()"
   ]
  },
  {
   "cell_type": "code",
   "execution_count": null,
   "id": "44312ad5",
   "metadata": {
    "execution": {
     "iopub.execute_input": "2021-11-06T06:59:05.894218Z",
     "iopub.status.busy": "2021-11-06T06:59:05.893343Z",
     "iopub.status.idle": "2021-11-06T06:59:05.908083Z",
     "shell.execute_reply": "2021-11-06T06:59:05.907646Z",
     "shell.execute_reply.started": "2021-11-06T06:35:48.582277Z"
    },
    "papermill": {
     "duration": 0.463366,
     "end_time": "2021-11-06T06:59:05.908212",
     "exception": false,
     "start_time": "2021-11-06T06:59:05.444846",
     "status": "completed"
    },
    "tags": []
   },
   "outputs": [],
   "source": [
    "submission.to_csv('submission.csv', index=False)"
   ]
  }
 ],
 "metadata": {
  "kernelspec": {
   "display_name": "Python 3.9.13 64-bit",
   "language": "python",
   "name": "python3"
  },
  "language_info": {
   "codemirror_mode": {
    "name": "ipython",
    "version": 3
   },
   "file_extension": ".py",
   "mimetype": "text/x-python",
   "name": "python",
   "nbconvert_exporter": "python",
   "pygments_lexer": "ipython3",
   "version": "3.9.13"
  },
  "papermill": {
   "default_parameters": {},
   "duration": 273.538972,
   "end_time": "2021-11-06T06:59:09.788217",
   "environment_variables": {},
   "exception": null,
   "input_path": "__notebook__.ipynb",
   "output_path": "__notebook__.ipynb",
   "parameters": {},
   "start_time": "2021-11-06T06:54:36.249245",
   "version": "2.3.3"
  },
  "vscode": {
   "interpreter": {
    "hash": "9e4f967fb276d24088c9ac612f6f710628f32a1e5f7995dd875bcda8c6bf71b0"
   }
  }
 },
 "nbformat": 4,
 "nbformat_minor": 5
}
